{
 "cells": [
  {
   "cell_type": "markdown",
   "metadata": {},
   "source": [
    "# Sistem Persamaan Linier\n",
    "\n",
    "Pengertian Dasar Sistem persamaan linear adalah kumpulan dari dua atau lebih persamaan yang memiliki variabel yang sama. Tujuannya adalah mencari nilai\n",
    "variabel-variabel tersebut sehingga semua persamaan dalam sistem tersebut terpenuhi.\n",
    "Sifat Persamaan Linear\n",
    "Ada beberapa sifat-sifat yang dimiliki oleh persamaan linear, yaitu sebagai berikut:\n",
    "\n",
    "- Penjumlahan dan pengurangan bilangan kedua ruas tak akan mengubah persamaan nilai.\n",
    "- Perkalian dan pembagian bilangan kedua ruas tidak mengubah nilai persamaan\n",
    "- Nilai persamaan tidak berubah jika kedua ruas ditambah atau dikurangi bilangan yang sama.\n",
    "- Suatu persamaan jika dipindah ruas maka penjumlahan berubah jadi pengurangan, perkalian berubah menjadi Pembagian, dan sebaliknya.\n",
    "\n",
    "1. Persamaan Linear Satu Variabel\n",
    "Sesuai dengan namanya, persamaan linear satu variabel hanya berisi satu variabel berangka 1 yang berbentuk kalimat terbuka dengan dihubungkan tanda =.\n",
    "2. Persamaan Dua Variabel Linier\n",
    "Sesuai dengan namanya , Persamaan Linear Dua Variabel merupakan sistem persamaan dengan variabel yang berisi dua dengan tingkat 1. Persamaan Linear Dua Variabel menggunakan relasi = dan tidak ada perkalian variabel di setiap persamaan.\n",
    "3. Persamaan Linear Tiga Variabel\n",
    "Persamaan linear tiga variabel merupakan bentuk perluasan dari persamaan linear dua variabel. Sama seperti persamaan dua variabel linier, persamaan ini juga dapat diselesaikan dengan dua metode, yaitu substitusi dan eliminasi.\n",
    "\n"
   ]
  }
 ],
 "metadata": {
  "kernelspec": {
   "display_name": "Python 3",
   "language": "python",
   "name": "python3"
  },
  "language_info": {
   "codemirror_mode": {
    "name": "ipython",
    "version": 3
   },
   "file_extension": ".py",
   "mimetype": "text/x-python",
   "name": "python",
   "nbconvert_exporter": "python",
   "pygments_lexer": "ipython3",
   "version": "3.8.0"
  },
  "widgets": {
   "application/vnd.jupyter.widget-state+json": {
    "state": {},
    "version_major": 2,
    "version_minor": 0
   }
  }
 },
 "nbformat": 4,
 "nbformat_minor": 4
}
